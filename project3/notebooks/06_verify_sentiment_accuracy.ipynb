{
 "cells": [
  {
   "cell_type": "code",
   "execution_count": 5,
   "id": "4a0243ee",
   "metadata": {},
   "outputs": [],
   "source": [
    "import pandas as pd\n",
    "\n",
    "reviews = pd.read_csv(\"/Users/bezatezera/Desktop/Data/amazonSales/Amazon_sales_analytics/project3/data/reviews_with_setiment(full_file).csv\")\n",
    "products = pd.read_csv(\"/Users/bezatezera/Desktop/Data/amazonSales/Amazon_sales_analytics/data/processed/cleaned_products.csv\")\n"
   ]
  },
  {
   "cell_type": "code",
   "execution_count": 6,
   "id": "6f77abdb",
   "metadata": {},
   "outputs": [
    {
     "data": {
      "text/html": [
       "<div>\n",
       "<style scoped>\n",
       "    .dataframe tbody tr th:only-of-type {\n",
       "        vertical-align: middle;\n",
       "    }\n",
       "\n",
       "    .dataframe tbody tr th {\n",
       "        vertical-align: top;\n",
       "    }\n",
       "\n",
       "    .dataframe thead th {\n",
       "        text-align: right;\n",
       "    }\n",
       "</style>\n",
       "<table border=\"1\" class=\"dataframe\">\n",
       "  <thead>\n",
       "    <tr style=\"text-align: right;\">\n",
       "      <th></th>\n",
       "      <th>review_id</th>\n",
       "      <th>user_id</th>\n",
       "      <th>product_id</th>\n",
       "      <th>review_title</th>\n",
       "      <th>review_content</th>\n",
       "      <th>cleaned_review</th>\n",
       "      <th>cleaned_length</th>\n",
       "      <th>vader_scores</th>\n",
       "      <th>compound</th>\n",
       "      <th>sentiment</th>\n",
       "      <th>rating</th>\n",
       "    </tr>\n",
       "  </thead>\n",
       "  <tbody>\n",
       "    <tr>\n",
       "      <th>0</th>\n",
       "      <td>R3HXWT0LRP0NMF,R2AJM3LFTLZHFO,R6AQJGUP6P86,R1K...</td>\n",
       "      <td>AG3D6O4STAQKAY2UVGEUV46KN35Q,AHMY5CWJMMK5BJRBB...</td>\n",
       "      <td>B07JW9H4J1</td>\n",
       "      <td>Satisfied,Charging is really fast,Value for mo...</td>\n",
       "      <td>Looks durable Charging is fine tooNo complains...</td>\n",
       "      <td>look durable charging fine toono complainschar...</td>\n",
       "      <td>36</td>\n",
       "      <td>{'neg': 0.0, 'neu': 0.619, 'pos': 0.381, 'comp...</td>\n",
       "      <td>0.9419</td>\n",
       "      <td>Positive</td>\n",
       "      <td>4.2</td>\n",
       "    </tr>\n",
       "    <tr>\n",
       "      <th>1</th>\n",
       "      <td>R3HXWT0LRP0NMF,R2AJM3LFTLZHFO,R6AQJGUP6P86,R1K...</td>\n",
       "      <td>AG3D6O4STAQKAY2UVGEUV46KN35Q,AHMY5CWJMMK5BJRBB...</td>\n",
       "      <td>B07JW9H4J1</td>\n",
       "      <td>Satisfied,Charging is really fast,Value for mo...</td>\n",
       "      <td>Looks durable Charging is fine tooNo complains...</td>\n",
       "      <td>look durable charging fine toono complainschar...</td>\n",
       "      <td>36</td>\n",
       "      <td>{'neg': 0.0, 'neu': 0.619, 'pos': 0.381, 'comp...</td>\n",
       "      <td>0.9419</td>\n",
       "      <td>Positive</td>\n",
       "      <td>4.2</td>\n",
       "    </tr>\n",
       "    <tr>\n",
       "      <th>2</th>\n",
       "      <td>R3HXWT0LRP0NMF,R2AJM3LFTLZHFO,R6AQJGUP6P86,R1K...</td>\n",
       "      <td>AG3D6O4STAQKAY2UVGEUV46KN35Q,AHMY5CWJMMK5BJRBB...</td>\n",
       "      <td>B07JW9H4J1</td>\n",
       "      <td>Satisfied,Charging is really fast,Value for mo...</td>\n",
       "      <td>Looks durable Charging is fine tooNo complains...</td>\n",
       "      <td>look durable charging fine toono complainschar...</td>\n",
       "      <td>36</td>\n",
       "      <td>{'neg': 0.0, 'neu': 0.619, 'pos': 0.381, 'comp...</td>\n",
       "      <td>0.9419</td>\n",
       "      <td>Positive</td>\n",
       "      <td>4.2</td>\n",
       "    </tr>\n",
       "    <tr>\n",
       "      <th>3</th>\n",
       "      <td>RGIQEG07R9HS2,R1SMWZQ86XIN8U,R2J3Y1WL29GWDE,RY...</td>\n",
       "      <td>AECPFYFQVRUWC3KGNLJIOREFP5LQ,AGYYVPDD7YG7FYNBX...</td>\n",
       "      <td>B098NS6PVG</td>\n",
       "      <td>A Good Braided Cable for Your Type C Device,Go...</td>\n",
       "      <td>I ordered this cable to connect my phone to An...</td>\n",
       "      <td>ordered cable connect phone android auto car c...</td>\n",
       "      <td>113</td>\n",
       "      <td>{'neg': 0.043, 'neu': 0.726, 'pos': 0.231, 'co...</td>\n",
       "      <td>0.9750</td>\n",
       "      <td>Positive</td>\n",
       "      <td>4.0</td>\n",
       "    </tr>\n",
       "    <tr>\n",
       "      <th>4</th>\n",
       "      <td>RGIQEG07R9HS2,R1SMWZQ86XIN8U,R2J3Y1WL29GWDE,RY...</td>\n",
       "      <td>AECPFYFQVRUWC3KGNLJIOREFP5LQ,AGYYVPDD7YG7FYNBX...</td>\n",
       "      <td>B098NS6PVG</td>\n",
       "      <td>A Good Braided Cable for Your Type C Device,Go...</td>\n",
       "      <td>I ordered this cable to connect my phone to An...</td>\n",
       "      <td>ordered cable connect phone android auto car c...</td>\n",
       "      <td>113</td>\n",
       "      <td>{'neg': 0.043, 'neu': 0.726, 'pos': 0.231, 'co...</td>\n",
       "      <td>0.9750</td>\n",
       "      <td>Positive</td>\n",
       "      <td>4.0</td>\n",
       "    </tr>\n",
       "  </tbody>\n",
       "</table>\n",
       "</div>"
      ],
      "text/plain": [
       "                                           review_id  \\\n",
       "0  R3HXWT0LRP0NMF,R2AJM3LFTLZHFO,R6AQJGUP6P86,R1K...   \n",
       "1  R3HXWT0LRP0NMF,R2AJM3LFTLZHFO,R6AQJGUP6P86,R1K...   \n",
       "2  R3HXWT0LRP0NMF,R2AJM3LFTLZHFO,R6AQJGUP6P86,R1K...   \n",
       "3  RGIQEG07R9HS2,R1SMWZQ86XIN8U,R2J3Y1WL29GWDE,RY...   \n",
       "4  RGIQEG07R9HS2,R1SMWZQ86XIN8U,R2J3Y1WL29GWDE,RY...   \n",
       "\n",
       "                                             user_id  product_id  \\\n",
       "0  AG3D6O4STAQKAY2UVGEUV46KN35Q,AHMY5CWJMMK5BJRBB...  B07JW9H4J1   \n",
       "1  AG3D6O4STAQKAY2UVGEUV46KN35Q,AHMY5CWJMMK5BJRBB...  B07JW9H4J1   \n",
       "2  AG3D6O4STAQKAY2UVGEUV46KN35Q,AHMY5CWJMMK5BJRBB...  B07JW9H4J1   \n",
       "3  AECPFYFQVRUWC3KGNLJIOREFP5LQ,AGYYVPDD7YG7FYNBX...  B098NS6PVG   \n",
       "4  AECPFYFQVRUWC3KGNLJIOREFP5LQ,AGYYVPDD7YG7FYNBX...  B098NS6PVG   \n",
       "\n",
       "                                        review_title  \\\n",
       "0  Satisfied,Charging is really fast,Value for mo...   \n",
       "1  Satisfied,Charging is really fast,Value for mo...   \n",
       "2  Satisfied,Charging is really fast,Value for mo...   \n",
       "3  A Good Braided Cable for Your Type C Device,Go...   \n",
       "4  A Good Braided Cable for Your Type C Device,Go...   \n",
       "\n",
       "                                      review_content  \\\n",
       "0  Looks durable Charging is fine tooNo complains...   \n",
       "1  Looks durable Charging is fine tooNo complains...   \n",
       "2  Looks durable Charging is fine tooNo complains...   \n",
       "3  I ordered this cable to connect my phone to An...   \n",
       "4  I ordered this cable to connect my phone to An...   \n",
       "\n",
       "                                      cleaned_review  cleaned_length  \\\n",
       "0  look durable charging fine toono complainschar...              36   \n",
       "1  look durable charging fine toono complainschar...              36   \n",
       "2  look durable charging fine toono complainschar...              36   \n",
       "3  ordered cable connect phone android auto car c...             113   \n",
       "4  ordered cable connect phone android auto car c...             113   \n",
       "\n",
       "                                        vader_scores  compound sentiment  \\\n",
       "0  {'neg': 0.0, 'neu': 0.619, 'pos': 0.381, 'comp...    0.9419  Positive   \n",
       "1  {'neg': 0.0, 'neu': 0.619, 'pos': 0.381, 'comp...    0.9419  Positive   \n",
       "2  {'neg': 0.0, 'neu': 0.619, 'pos': 0.381, 'comp...    0.9419  Positive   \n",
       "3  {'neg': 0.043, 'neu': 0.726, 'pos': 0.231, 'co...    0.9750  Positive   \n",
       "4  {'neg': 0.043, 'neu': 0.726, 'pos': 0.231, 'co...    0.9750  Positive   \n",
       "\n",
       "   rating  \n",
       "0     4.2  \n",
       "1     4.2  \n",
       "2     4.2  \n",
       "3     4.0  \n",
       "4     4.0  "
      ]
     },
     "execution_count": 6,
     "metadata": {},
     "output_type": "execute_result"
    }
   ],
   "source": [
    "merged = pd.merge(reviews, products[['product_id', 'rating']], on='product_id', how='left')\n",
    "\n",
    "merged['rating'] = pd.to_numeric(merged['rating'], errors='coerce')\n",
    "\n",
    "merged.head()"
   ]
  },
  {
   "cell_type": "code",
   "execution_count": 7,
   "id": "8f0026d4",
   "metadata": {},
   "outputs": [],
   "source": [
    "def rating_to_sentiment(rating):\n",
    "\n",
    "    if rating >= 4:\n",
    "        return \"Positive\"\n",
    "    elif rating == 3:\n",
    "        return \"Neutral\"\n",
    "    else:\n",
    "        return \"Negative\"\n",
    "    \n",
    "    \n",
    "merged['rating_sentiment'] = merged['rating'].apply(rating_to_sentiment)"
   ]
  },
  {
   "cell_type": "code",
   "execution_count": 8,
   "id": "d8a1a8ba",
   "metadata": {},
   "outputs": [
    {
     "name": "stdout",
     "output_type": "stream",
     "text": [
      "   rating rating_sentiment\n",
      "0     4.2         Positive\n",
      "1     4.2         Positive\n",
      "2     4.2         Positive\n",
      "3     4.0         Positive\n",
      "4     4.0         Positive\n",
      "rating_sentiment\n",
      "Positive    1350\n",
      "Negative     383\n",
      "Neutral        4\n",
      "Name: count, dtype: int64\n"
     ]
    }
   ],
   "source": [
    "print(merged[['rating', 'rating_sentiment']].head())\n",
    "print(merged['rating_sentiment'].value_counts())"
   ]
  },
  {
   "cell_type": "code",
   "execution_count": 9,
   "id": "52d165d8",
   "metadata": {},
   "outputs": [
    {
     "name": "stdout",
     "output_type": "stream",
     "text": [
      "Sentiment accuracy vs rating: 77.20%\n"
     ]
    }
   ],
   "source": [
    "\n",
    "accuracy = (merged['rating_sentiment'] == merged['sentiment']).mean()\n",
    "print(f\"Sentiment accuracy vs rating: {accuracy:.2%}\")\n"
   ]
  },
  {
   "cell_type": "code",
   "execution_count": null,
   "id": "05b3adbb",
   "metadata": {},
   "outputs": [
    {
     "name": "stdout",
     "output_type": "stream",
     "text": [
      "Overall Accuracy: 77.20%\n"
     ]
    },
    {
     "data": {
      "image/png": "[encoded data removed]",
      "text/plain": [
       "<Figure size 800x600 with 2 Axes>"
      ]
     },
     "metadata": {},
     "output_type": "display_data"
    },
    {
     "name": "stdout",
     "output_type": "stream",
     "text": [
      "\n",
      "============================================================\n",
      "DETAILED CLASSIFICATION METRICS\n",
      "============================================================\n",
      "              precision    recall  f1-score   support\n",
      "\n",
      "    Negative       0.43      0.03      0.06       383\n",
      "     Neutral       0.00      0.00      0.00         4\n",
      "    Positive       0.78      0.98      0.87      1350\n",
      "\n",
      "    accuracy                           0.77      1737\n",
      "   macro avg       0.41      0.34      0.31      1737\n",
      "weighted avg       0.70      0.77      0.69      1737\n",
      "\n",
      "\n",
      "============================================================\n",
      "EXAMPLES OF MISMATCHED SENTIMENTS\n",
      "============================================================\n",
      "Total mismatches: 396 (22.8%)\n",
      "\n",
      "5-star reviews classified as negative:\n",
      "Empty DataFrame\n",
      "Columns: [review_content, rating, compound, sentiment]\n",
      "Index: []\n"
     ]
    },
    {
     "name": "stderr",
     "output_type": "stream",
     "text": [
      "/var/folders/8w/9hxx_8m540zcg2yy692kdy480000gn/T/ipykernel_37045/2433176804.py:38: UserWarning: Boolean Series key will be reindexed to match DataFrame index.\n",
      "  print(mismatches[(merged['rating'] == 5) & (merged['sentiment'] == 'Negative')][\n"
     ]
    }
   ],
   "source": [
    "from sklearn.metrics import confusion_matrix, classification_report\n",
    "import seaborn as sns\n",
    "import matplotlib.pyplot as plt\n",
    "\n",
    "# Your existing code...\n",
    "accuracy = (merged['rating_sentiment'] == merged['sentiment']).mean()\n",
    "print(f\"Overall Accuracy: {accuracy:.2%}\")\n",
    "\n",
    "# Add confusion matrix\n",
    "cm = confusion_matrix(merged['rating_sentiment'], merged['sentiment'], \n",
    "                      labels=['Negative', 'Neutral', 'Positive'])\n",
    "\n",
    "plt.figure(figsize=(8, 6))\n",
    "sns.heatmap(cm, annot=True, fmt='d', cmap='Blues',\n",
    "            xticklabels=['Negative', 'Neutral', 'Positive'],\n",
    "            yticklabels=['Negative', 'Neutral', 'Positive'])\n",
    "plt.title('Confusion Matrix: Rating vs Sentiment Analysis')\n",
    "plt.xlabel('Predicted Sentiment (VADER)')\n",
    "plt.ylabel('Actual Sentiment (from Rating)')\n",
    "plt.tight_layout()\n",
    "plt.savefig('../results/visualization/confusion_matrix.png', dpi=300)\n",
    "plt.show()\n",
    "\n",
    "# Classification report\n",
    "print(\"\\n\" + \"=\"*60)\n",
    "print(\"DETAILED CLASSIFICATION METRICS\")\n",
    "print(\"=\"*60)\n",
    "print(classification_report(merged['rating_sentiment'], merged['sentiment']))\n",
    "\n",
    "# Show mismatches\n",
    "print(\"\\n\" + \"=\"*60)\n",
    "print(\"EXAMPLES OF MISMATCHED SENTIMENTS\")\n",
    "print(\"=\"*60)\n",
    "mismatches = merged[merged['rating_sentiment'] != merged['sentiment']]\n",
    "print(f\"Total mismatches: {len(mismatches)} ({len(mismatches)/len(merged)*100:.1f}%)\")\n",
    "\n",
    "print(\"\\n5-star reviews classified as negative:\")\n",
    "print(mismatches[(merged['rating'] == 5) & (merged['sentiment'] == 'Negative')][\n",
    "    ['review_content', 'rating', 'compound', 'sentiment']\n",
    "].head())"
   ]
  }
 ],
 "metadata": {
  "kernelspec": {
   "display_name": "opencv-env",
   "language": "python",
   "name": "python3"
  },
  "language_info": {
   "codemirror_mode": {
    "name": "ipython",
    "version": 3
   },
   "file_extension": ".py",
   "mimetype": "text/x-python",
   "name": "python",
   "nbconvert_exporter": "python",
   "pygments_lexer": "ipython3",
   "version": "3.13.5"
  }
 },
 "nbformat": 4,
 "nbformat_minor": 5
}
